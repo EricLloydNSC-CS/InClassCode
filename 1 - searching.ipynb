{
 "cells": [
  {
   "cell_type": "code",
   "execution_count": 1,
   "metadata": {},
   "outputs": [
    {
     "name": "stdout",
     "output_type": "stream",
     "text": [
      "NUMBERS: [2, 4, 7, 10, 11, 32, 45, 87]\n",
      "3 was not found.\n"
     ]
    }
   ],
   "source": [
    "def linear_search(numbers, key):\n",
    "    for i in range(len(numbers)):\n",
    "       if (numbers[i] == key):\n",
    "           return i\n",
    "    return -1  # not found\n",
    "\n",
    "# Main program to test the linear_search() method   \n",
    "numbers = [2, 4, 7, 10, 11, 32, 45, 87]\n",
    "print('NUMBERS:', numbers)\n",
    "     \n",
    "key = int(input('Enter an integer value: '))\n",
    "key_index = linear_search(numbers, key)\n",
    "     \n",
    "if (key_index == -1):\n",
    "    print('%d was not found.' % key)\n",
    "else:\n",
    "    print('Found %d at index %d.' % (key, key_index))"
   ]
  },
  {
   "cell_type": "code",
   "execution_count": 2,
   "metadata": {},
   "outputs": [
    {
     "name": "stdout",
     "output_type": "stream",
     "text": [
      "NUMBERS: [2, 4, 7, 10, 11, 32, 45, 87]\n",
      "Found 7 at index 2.\n"
     ]
    }
   ],
   "source": [
    "def binary_search(numbers, key):\n",
    "    # Variables to hold the low, middle and high indices\n",
    "    # of the area being searched. Starts with entire range.\n",
    "    low = 0\n",
    "    mid = len(numbers) // 2\n",
    "    high = len(numbers) - 1\n",
    "   \n",
    "    # Loop until \"low\" passes \"high\"\n",
    "    while (high >= low):\n",
    "        # calculate the middle index\n",
    "        mid = (high + low) // 2\n",
    "\n",
    "        # Cut the range to either the left or right half,\n",
    "        # unless numbers[mid] is the key\n",
    "        if (numbers[mid] < key):\n",
    "            low = mid + 1\n",
    "      \n",
    "        elif (numbers[mid] > key):\n",
    "            high = mid - 1\n",
    "      \n",
    "        else:\n",
    "            return mid   \n",
    "   \n",
    "    return -1 # not found\n",
    "\n",
    "\n",
    "# Main program to test the binary_search() function   \n",
    "numbers = [2, 4, 7, 10, 11, 32, 45, 87]\n",
    "print('NUMBERS:', numbers)\n",
    "     \n",
    "key = int(input('Enter an integer value: '))\n",
    "key_index = binary_search(numbers, key)\n",
    "     \n",
    "if (key_index == -1):\n",
    "    print('%d was not found.' % key)\n",
    "else:\n",
    "    print('Found %d at index %d.' % (key, key_index))"
   ]
  }
 ],
 "metadata": {
  "kernelspec": {
   "display_name": "AD325",
   "language": "python",
   "name": "python3"
  },
  "language_info": {
   "codemirror_mode": {
    "name": "ipython",
    "version": 3
   },
   "file_extension": ".py",
   "mimetype": "text/x-python",
   "name": "python",
   "nbconvert_exporter": "python",
   "pygments_lexer": "ipython3",
   "version": "3.10.14"
  }
 },
 "nbformat": 4,
 "nbformat_minor": 2
}
