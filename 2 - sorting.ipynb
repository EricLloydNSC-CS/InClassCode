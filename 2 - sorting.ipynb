{
 "cells": [
  {
   "cell_type": "markdown",
   "metadata": {},
   "source": [
    "## Selection Sort"
   ]
  },
  {
   "cell_type": "code",
   "execution_count": 1,
   "metadata": {},
   "outputs": [],
   "source": [
    "def selection_sort(numbers):\n",
    "   for i in range(len(numbers)-1):\n",
    "      \n",
    "      # Find index of smallest remaining element\n",
    "      index_smallest = i\n",
    "      for j in range(i+1, len(numbers)):\n",
    "         \n",
    "         if numbers[j] < numbers[index_smallest]:\n",
    "            index_smallest = j\n",
    "      \n",
    "      # Swap numbers[i] and numbers[index_smallest]\n",
    "      temp = numbers[i]\n",
    "      numbers[i] = numbers[index_smallest]\n",
    "      numbers[index_smallest] = temp"
   ]
  },
  {
   "cell_type": "code",
   "execution_count": 2,
   "metadata": {},
   "outputs": [
    {
     "name": "stdout",
     "output_type": "stream",
     "text": [
      "UNSORTED: [10, 2, 78, 4, 45, 32, 7, 11]\n",
      "SORTED: [2, 4, 7, 10, 11, 32, 45, 78]\n"
     ]
    }
   ],
   "source": [
    "\n",
    "# Create a list of numbers to sort\n",
    "numbers = [10, 2, 78, 4, 45, 32, 7, 11]\n",
    "\n",
    "# Display the contents of the list\n",
    "print('UNSORTED:', numbers)\n",
    "\n",
    "# Call the selection_sort() function\n",
    "selection_sort(numbers)\n",
    "\n",
    "# Display the (sorted) contents of the list\n",
    "print('SORTED:', numbers)"
   ]
  },
  {
   "cell_type": "markdown",
   "metadata": {},
   "source": [
    "## Insertion Sort"
   ]
  },
  {
   "cell_type": "code",
   "execution_count": 3,
   "metadata": {},
   "outputs": [],
   "source": [
    "def insertion_sort(numbers):\n",
    "    for i in range(1, len(numbers)):\n",
    "        j = i\n",
    "\n",
    "        # Insert numbers[i] into sorted part \n",
    "        # stopping once numbers[i] in correct position\n",
    "        while j > 0 and numbers[j] < numbers[j - 1]:\n",
    "            # Swap numbers[j] and numbers[j - 1]\n",
    "            temp = numbers[j]\n",
    "            numbers[j] = numbers[j - 1]\n",
    "            numbers[j - 1] = temp\n",
    "            j -= 1\n",
    "    \n"
   ]
  },
  {
   "cell_type": "code",
   "execution_count": 4,
   "metadata": {},
   "outputs": [
    {
     "name": "stdout",
     "output_type": "stream",
     "text": [
      "UNSORTED: [10, 2, 78, 4, 45, 32, 7, 11]\n",
      "SORTED: [2, 4, 7, 10, 11, 32, 45, 78]\n"
     ]
    }
   ],
   "source": [
    "# Create a list of unsorted values    \n",
    "numbers = [10, 2, 78, 4, 45, 32, 7, 11]\n",
    "\n",
    "# Print unsorted list\n",
    "print('UNSORTED:', numbers)\n",
    "\n",
    "# Call the insertion_sort function\n",
    "insertion_sort(numbers)\n",
    "\n",
    "# Print sorted list\n",
    "print('SORTED:', numbers)"
   ]
  },
  {
   "cell_type": "markdown",
   "metadata": {},
   "source": [
    "## Shell Sort"
   ]
  },
  {
   "cell_type": "code",
   "execution_count": 5,
   "metadata": {},
   "outputs": [],
   "source": [
    "def insertion_sort_interleaved(numbers, start_index, gap):\n",
    "    swaps = 0\n",
    "    for i in range(start_index + gap, len(numbers), gap):\n",
    "        j = i\n",
    "        while (j - gap >= start_index) and (numbers[j] < numbers[j - gap]):\n",
    "            swaps += 1\n",
    "            temp = numbers[j]\n",
    "            numbers[j] = numbers[j - gap]\n",
    "            numbers[j - gap] = temp\n",
    "            j = j - gap\n",
    "    return swaps\n",
    "\n",
    "          \n",
    "def shell_sort(numbers, gap_values):\n",
    "    swaps = []\n",
    "    for gap_value in gap_values:\n",
    "        for i in range(gap_value):\n",
    "            swaps.append(insertion_sort_interleaved(numbers, i, gap_value))\n",
    "    return swaps\n",
    "\n",
    "                        \n",
    "\n"
   ]
  },
  {
   "cell_type": "code",
   "execution_count": 6,
   "metadata": {},
   "outputs": [
    {
     "name": "stdout",
     "output_type": "stream",
     "text": [
      "UNSORTED:  [12, 18, 3, 72, 65, 22, 19]\n",
      "SORTED:  [3, 12, 18, 19, 22, 65, 72]\n",
      "Total swaps: [0, 0, 0, 0, 2, 1, 3]\n"
     ]
    }
   ],
   "source": [
    "# Main program to test the shell sort algorithm.\n",
    "numbers = [12, 18, 3, 72, 65, 22, 19]\n",
    "print('UNSORTED: ', numbers)\n",
    "\n",
    "swaps = shell_sort(numbers, [4, 2, 1])\n",
    "print('SORTED: ', numbers)\n",
    "print('Total swaps:', swaps)"
   ]
  },
  {
   "cell_type": "markdown",
   "metadata": {},
   "source": [
    "## Quick Sort"
   ]
  },
  {
   "cell_type": "code",
   "execution_count": 7,
   "metadata": {},
   "outputs": [],
   "source": [
    "def partition(numbers, start_index, end_index):\n",
    "    # Select the middle value as the pivot.\n",
    "    midpoint = start_index + (end_index - start_index) // 2\n",
    "    pivot = numbers[midpoint]\n",
    "   \n",
    "    # \"low\" and \"high\" start at the ends of the list segment\n",
    "    # and move towards each other.\n",
    "    low = start_index\n",
    "    high = end_index\n",
    "   \n",
    "    done = False\n",
    "    while not done:\n",
    "        # Increment low while numbers[low] < pivot\n",
    "        while numbers[low] < pivot:\n",
    "            low = low + 1\n",
    "      \n",
    "        # Decrement high while pivot < numbers[high]\n",
    "        while pivot < numbers[high]:\n",
    "            high = high - 1\n",
    "      \n",
    "        # If low and high have crossed each other, the loop\n",
    "        # is done. If not, the elements are swapped, low is\n",
    "        # incremented and high is decremented.\n",
    "        if low >= high:\n",
    "            done = True\n",
    "        else:\n",
    "            temp = numbers[low]\n",
    "            numbers[low] = numbers[high]\n",
    "            numbers[high] = temp\n",
    "            low = low + 1\n",
    "            high = high - 1\n",
    "   \n",
    "    # \"high\" is the last index in the left segment.\n",
    "    return high"
   ]
  },
  {
   "cell_type": "code",
   "execution_count": 8,
   "metadata": {},
   "outputs": [],
   "source": [
    "def quicksort(numbers, start_index, end_index):\n",
    "    # Only attempt to sort the list segment if there are\n",
    "    # at least 2 elements\n",
    "    if end_index <= start_index:\n",
    "        return\n",
    "          \n",
    "    # Partition the list segment\n",
    "    high = partition(numbers, start_index, end_index)\n",
    "\n",
    "    # Recursively sort the left segment\n",
    "    quicksort(numbers, start_index, high)\n",
    "\n",
    "    # Recursively sort the right segment\n",
    "    quicksort(numbers, high + 1, end_index)"
   ]
  },
  {
   "cell_type": "code",
   "execution_count": 9,
   "metadata": {},
   "outputs": [
    {
     "name": "stdout",
     "output_type": "stream",
     "text": [
      "UNSORTED: [12, 18, 3, 7, 32, 14, 91, 16, 8, 57]\n",
      "SORTED: [3, 7, 8, 12, 14, 16, 18, 32, 57, 91]\n"
     ]
    }
   ],
   "source": [
    "# Main program to test the quicksort algorithm.\n",
    "numbers = [12, 18, 3, 7, 32, 14, 91, 16, 8, 57]\n",
    "print('UNSORTED:', numbers)\n",
    "\n",
    "quicksort(numbers, 0, len(numbers)-1)\n",
    "print('SORTED:', numbers)"
   ]
  },
  {
   "cell_type": "markdown",
   "metadata": {},
   "source": [
    "## Merge Sort"
   ]
  },
  {
   "cell_type": "code",
   "execution_count": 10,
   "metadata": {},
   "outputs": [],
   "source": [
    "def merge(numbers, i, j, k):\n",
    "    merged_size = k - i + 1               # Size of merged partition\n",
    "    merged_numbers = [0] * merged_size    # Dynamically allocates temporary array\n",
    "                                          # for merged numbers\n",
    "    merge_pos = 0                         # Position to insert merged number\n",
    "    left_pos = i                          # Initialize left partition position\n",
    "    right_pos = j + 1                     # Initialize right partition position\n",
    "   \n",
    "    # Add smallest element from left or right partition to merged numbers\n",
    "    while left_pos <= j and right_pos <= k:\n",
    "        if numbers[left_pos] <= numbers[right_pos]:\n",
    "            merged_numbers[merge_pos] = numbers[left_pos]\n",
    "            left_pos += 1\n",
    "        else:\n",
    "            merged_numbers[merge_pos] = numbers[right_pos]\n",
    "            right_pos += 1\n",
    "        merge_pos = merge_pos + 1\n",
    "   \n",
    "    # If left partition is not empty, add remaining elements to merged numbers\n",
    "    while left_pos <= j:\n",
    "        merged_numbers[merge_pos] = numbers[left_pos]\n",
    "        left_pos += 1\n",
    "        merge_pos += 1\n",
    "   \n",
    "    # If right partition is not empty, add remaining elements to merged numbers\n",
    "    while right_pos <= k:\n",
    "        merged_numbers[merge_pos] = numbers[right_pos]\n",
    "        right_pos = right_pos + 1\n",
    "        merge_pos = merge_pos + 1\n",
    "   \n",
    "    # Copy merge number back to numbers\n",
    "    for merge_pos in range(merged_size):\n",
    "        numbers[i + merge_pos] = merged_numbers[merge_pos]\n",
    "\n",
    "\n",
    "def merge_sort(numbers, i, k):\n",
    "    j = 0\n",
    "\n",
    "    if i < k:\n",
    "        j = (i + k) // 2  # Find the midpoint in the partition\n",
    "\n",
    "        # Recursively sort left and right partitions\n",
    "        merge_sort(numbers, i, j)\n",
    "        merge_sort(numbers, j + 1, k)\n",
    "            \n",
    "        # Merge left and right partition in sorted order\n",
    "        merge(numbers, i, j, k)\n",
    "\n",
    "\n"
   ]
  },
  {
   "cell_type": "code",
   "execution_count": 11,
   "metadata": {},
   "outputs": [
    {
     "name": "stdout",
     "output_type": "stream",
     "text": [
      "UNSORTED: [61, 76, 19, 4, 94, 32, 27, 83, 58]\n",
      "SORTED: [4, 19, 27, 32, 58, 61, 76, 83, 94]\n"
     ]
    }
   ],
   "source": [
    "# Create a list of unsorted values\n",
    "numbers = [61, 76, 19, 4, 94, 32, 27, 83, 58]\n",
    "\n",
    "# Print unsorted list\n",
    "print('UNSORTED:', numbers)\n",
    "\n",
    "# Initial call to merge_sort\n",
    "merge_sort(numbers, 0, len(numbers) - 1)\n",
    "\n",
    "# Print sorted list\n",
    "print('SORTED:', numbers)"
   ]
  }
 ],
 "metadata": {
  "kernelspec": {
   "display_name": "AD325",
   "language": "python",
   "name": "python3"
  },
  "language_info": {
   "codemirror_mode": {
    "name": "ipython",
    "version": 3
   },
   "file_extension": ".py",
   "mimetype": "text/x-python",
   "name": "python",
   "nbconvert_exporter": "python",
   "pygments_lexer": "ipython3",
   "version": "3.10.14"
  }
 },
 "nbformat": 4,
 "nbformat_minor": 2
}
