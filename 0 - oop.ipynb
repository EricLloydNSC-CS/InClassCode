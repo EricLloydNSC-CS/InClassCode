{
 "cells": [
  {
   "cell_type": "markdown",
   "metadata": {},
   "source": [
    "### Object-Oriented Programming (OOP) in Python\n",
    "### ==========================================="
   ]
  },
  {
   "cell_type": "markdown",
   "metadata": {},
   "source": [
    "### 1. Introduction to Object-Oriented Programming (OOP)\n",
    "### -----------------------------------------------------\n",
    "### In this section, we'll introduce the fundamental concepts of Object-Oriented Programming (OOP) in Python.\n",
    "\n",
    "### Object-Oriented Design Principles:\n",
    "### - Modularity: Breaking down a program into smaller, manageable parts (modules).\n",
    "### - Abstraction: Hiding the complex implementation details and showing only the essential features.\n",
    "### - Encapsulation: Bundling data and methods that operate on the data within one unit (class) and restricting access to some components.\n",
    "### - Reusability: Using existing code for new purposes to save time and effort."
   ]
  },
  {
   "cell_type": "markdown",
   "metadata": {},
   "source": [
    "### 2. Classes and Objects\n",
    "### ----------------------\n",
    "### A class is a blueprint for creating objects (instances). \n",
    "### Each object is an instance of a class and contains its own data and methods."
   ]
  },
  {
   "cell_type": "code",
   "execution_count": 1,
   "metadata": {},
   "outputs": [
    {
     "name": "stdout",
     "output_type": "stream",
     "text": [
      "Customer: John Doe\n",
      "Bank: XYZ Bank\n",
      "Account: 1234 5678 9876 5432\n",
      "Limit: 1000\n",
      "Balance: 0\n"
     ]
    }
   ],
   "source": [
    "class CreditCard:\n",
    "\n",
    "    def __init__(self, customer, bank, account, limit):\n",
    "        \"\"\"Create a new credit card instance.\n",
    "\n",
    "        The initial balance is zero.\n",
    "\n",
    "        customer: the name of the customer (e.g., 'John Doe')\n",
    "        bank: the name of the bank (e.g., 'XYZ Bank')\n",
    "        account: the account identifier (e.g., '1234 5678 9876 5432')\n",
    "        limit: credit limit (measured in dollars)\n",
    "        \"\"\"\n",
    "        self._customer = customer\n",
    "        self._bank = bank\n",
    "        self._account = account\n",
    "        self._limit = limit\n",
    "        self._balance = 0\n",
    "\n",
    "    def get_customer(self):\n",
    "        \"\"\"Return name of the customer.\"\"\"\n",
    "        return self._customer\n",
    "\n",
    "    def get_bank(self):\n",
    "        \"\"\"Return the bank's name.\"\"\"\n",
    "        return self._bank\n",
    "\n",
    "    def get_account(self):\n",
    "        \"\"\"Return the card identifying number (stored as a string).\"\"\"\n",
    "        return self._account\n",
    "\n",
    "    def get_limit(self):\n",
    "        \"\"\"Return current credit limit.\"\"\"\n",
    "        return self._limit\n",
    "\n",
    "    def get_balance(self):\n",
    "        \"\"\"Return current balance.\"\"\"\n",
    "        return self._balance\n",
    "\n",
    "    def charge(self, price):\n",
    "        \"\"\"Charge given price to the card, assuming sufficient credit limit.\n",
    "        Return True if charge was processed; False if charge was denied.\n",
    "        \"\"\"\n",
    "        if price + self._balance > self._limit:  # if charge would exceed limit,\n",
    "            return False                         # cannot accept charge\n",
    "        else:\n",
    "            self._balance += price\n",
    "            return True\n",
    "\n",
    "# Creating an instance of CreditCard\n",
    "\n",
    "cc = CreditCard('John Doe', 'XYZ Bank', '1234 5678 9876 5432', 1000)\n",
    "print(f\"Customer: {cc.get_customer()}\")\n",
    "print(f\"Bank: {cc.get_bank()}\")\n",
    "print(f\"Account: {cc.get_account()}\")\n",
    "print(f\"Limit: {cc.get_limit()}\")\n",
    "print(f\"Balance: {cc.get_balance()}\")\n"
   ]
  },
  {
   "cell_type": "markdown",
   "metadata": {},
   "source": [
    "### 3. Encapsulation\n",
    "### ----------------\n",
    "### Encapsulation is the practice of keeping fields within a class private, \n",
    "### then providing access to them via public methods."
   ]
  },
  {
   "cell_type": "code",
   "execution_count": 2,
   "metadata": {},
   "outputs": [
    {
     "name": "stdout",
     "output_type": "stream",
     "text": [
      "Customer: Jane Doe\n",
      "Pin: 1234\n"
     ]
    }
   ],
   "source": [
    "class SecureCreditCard(CreditCard):\n",
    "    \"\"\"A more secure version of the CreditCard class.\"\"\"\n",
    "    \n",
    "    def __init__(self, customer, bank, account, limit):\n",
    "        super().__init__(customer, bank, account, limit)\n",
    "        self._pin = None  # underscore implies this is private\n",
    "\n",
    "    def set_pin(self, pin):\n",
    "        \"\"\"Set a pin for secure transactions.\"\"\"\n",
    "        self._pin = pin\n",
    "    \n",
    "    def get_pin(self):\n",
    "        \"\"\"This method should not be used in real scenarios, just for demonstration.\"\"\"\n",
    "        return self._pin\n",
    "\n",
    "# Creating an instance of SecureCreditCard\n",
    "scc = SecureCreditCard('Jane Doe', 'ABC Bank', '9876 5432 1234 5678', 2000)\n",
    "scc.set_pin('1234')\n",
    "print(f\"Customer: {scc.get_customer()}\")\n",
    "print(f\"Pin: {scc.get_pin()}\")  # Accessing the pin (not a good practice)"
   ]
  },
  {
   "cell_type": "markdown",
   "metadata": {},
   "source": [
    "### 4. Inheritance\n",
    "### --------------\n",
    "### Inheritance allows a new class to inherit methods and properties from an existing class."
   ]
  },
  {
   "cell_type": "code",
   "execution_count": 3,
   "metadata": {},
   "outputs": [
    {
     "name": "stdout",
     "output_type": "stream",
     "text": [
      "Customer: Alice Doe\n",
      "Rewards: 1.0\n"
     ]
    }
   ],
   "source": [
    "\n",
    "\n",
    "class RewardCreditCard(SecureCreditCard):\n",
    "    \"\"\"A credit card that gives rewards based on purchases.\"\"\"\n",
    "    \n",
    "    def __init__(self, customer, bank, account, limit, rewards_rate):\n",
    "        super().__init__(customer, bank, account, limit)\n",
    "        self._rewards_rate = rewards_rate\n",
    "        self._rewards = 0\n",
    "    \n",
    "    def charge(self, price):\n",
    "        \"\"\"Charge given price to the card, assuming sufficient credit limit.\n",
    "        Adds reward points if charge is successful.\n",
    "        \"\"\"\n",
    "        success = super().charge(price)\n",
    "        if success:\n",
    "            self._rewards += price * self._rewards_rate\n",
    "        return success\n",
    "    \n",
    "    def get_rewards(self):\n",
    "        \"\"\"Return current rewards balance.\"\"\"\n",
    "        return self._rewards\n",
    "\n",
    "# Creating an instance of RewardCreditCard\n",
    "rcc = RewardCreditCard('Alice Doe', 'DEF Bank', '5678 1234 9876 5432', 3000, 0.01)\n",
    "rcc.charge(100)\n",
    "print(f\"Customer: {rcc.get_customer()}\")\n",
    "print(f\"Rewards: {rcc.get_rewards()}\")"
   ]
  },
  {
   "cell_type": "markdown",
   "metadata": {},
   "source": [
    "### 5. Polymorphism and Duck Typing\n",
    "### -------------------------------\n",
    "### Polymorphism allows methods to be used interchangeably on different types.\n",
    "### Duck typing in Python means that if it behaves like a duck, it's treated as a duck."
   ]
  },
  {
   "cell_type": "code",
   "execution_count": 4,
   "metadata": {},
   "outputs": [
    {
     "name": "stdout",
     "output_type": "stream",
     "text": [
      "True\n",
      "True\n"
     ]
    }
   ],
   "source": [
    "class DebitCard:\n",
    "    \"\"\"A simple example class for DebitCard management.\"\"\"\n",
    "    \n",
    "    def __init__(self, customer, bank, account, balance):\n",
    "        self._customer = customer\n",
    "        self._bank = bank\n",
    "        self._account = account\n",
    "        self._balance = balance\n",
    "    \n",
    "    def get_balance(self):\n",
    "        \"\"\"Return current balance.\"\"\"\n",
    "        return self._balance\n",
    "    \n",
    "    def withdraw(self, amount):\n",
    "        \"\"\"Withdraw given amount if funds are sufficient.\"\"\"\n",
    "        if amount > self._balance:\n",
    "            return False\n",
    "        else:\n",
    "            self._balance -= amount\n",
    "            return True\n",
    "\n",
    "# Demonstrating polymorphism with a function\n",
    "def process_payment(card, amount):\n",
    "    \"\"\"Process payment using a card (could be CreditCard or DebitCard).\"\"\"\n",
    "    if isinstance(card, CreditCard):\n",
    "        return card.charge(amount)\n",
    "    elif isinstance(card, DebitCard):\n",
    "        return card.withdraw(amount)\n",
    "    else:\n",
    "        raise TypeError(\"Unsupported card type\")\n",
    "\n",
    "# Using both CreditCard and DebitCard with the same function\n",
    "dc = DebitCard('Bob Doe', 'GHI Bank', '4321 8765 2345 6789', 500)\n",
    "print(process_payment(rcc, 50))  # Using RewardCreditCard\n",
    "print(process_payment(dc, 50))   # Using DebitCard\n"
   ]
  },
  {
   "cell_type": "markdown",
   "metadata": {},
   "source": [
    "### 6. Abstract Base Classes\n",
    "### ------------------------\n",
    "### Abstract Base Classes (ABCs) define a common interface for a group of subclasses."
   ]
  },
  {
   "cell_type": "code",
   "execution_count": 5,
   "metadata": {},
   "outputs": [
    {
     "name": "stdout",
     "output_type": "stream",
     "text": [
      "True\n"
     ]
    }
   ],
   "source": [
    "\n",
    "\n",
    "from abc import ABC, abstractmethod\n",
    "\n",
    "class PaymentMethod(ABC):\n",
    "    \"\"\"Abstract base class for a payment method.\"\"\"\n",
    "    \n",
    "    @abstractmethod\n",
    "    def process_payment(self, amount):\n",
    "        \"\"\"Process a payment of a given amount.\"\"\"\n",
    "        pass\n",
    "\n",
    "class PayPal(PaymentMethod):\n",
    "    \"\"\"A concrete class representing PayPal payments.\"\"\"\n",
    "    \n",
    "    def __init__(self, email, balance):\n",
    "        self._email = email\n",
    "        self._balance = balance\n",
    "    \n",
    "    def process_payment(self, amount):\n",
    "        if amount > self._balance:\n",
    "            return False\n",
    "        else:\n",
    "            self._balance -= amount\n",
    "            return True\n",
    "\n",
    "# Instantiating a PayPal object and processing payment\n",
    "paypal = PayPal('alice@example.com', 150)\n",
    "print(paypal.process_payment(50))"
   ]
  },
  {
   "cell_type": "markdown",
   "metadata": {},
   "source": [
    "### 7. Operator Overloading\n",
    "### -----------------------\n",
    "### Operator overloading allows you to define how operators work with your custom objects."
   ]
  },
  {
   "cell_type": "code",
   "execution_count": 6,
   "metadata": {},
   "outputs": [
    {
     "name": "stdout",
     "output_type": "stream",
     "text": [
      "Vector(6, 4)\n"
     ]
    }
   ],
   "source": [
    "\n",
    "\n",
    "class Vector:\n",
    "    \"\"\"A simple class representing a mathematical vector.\"\"\"\n",
    "    \n",
    "    def __init__(self, x, y):\n",
    "        self.x = x\n",
    "        self.y = y\n",
    "    \n",
    "    def __add__(self, other):\n",
    "        # defines how the + should be used\n",
    "        \"\"\"Add two vectors.\"\"\"\n",
    "        return Vector(self.x + other.x, self.y + other.y)\n",
    "    \n",
    "    def __str__(self):\n",
    "        # defines how objects should be converted to strings\n",
    "        \"\"\"Return a string representation of the vector.\"\"\"\n",
    "        return f\"Vector({self.x}, {self.y})\"\n",
    "\n",
    "# Demonstrating operator overloading\n",
    "v1 = Vector(2, 3)\n",
    "v2 = Vector(4, 1)\n",
    "v3 = v1 + v2\n",
    "print(v3)\n",
    "\n",
    "\n"
   ]
  },
  {
   "cell_type": "markdown",
   "metadata": {},
   "source": [
    "### 8. Iterators and Generators\n",
    "### ---------------------------\n",
    "### Iterators allow you to iterate through a collection of items.\n",
    "### Generators are a simple way to create iterators.\n",
    "\n",
    "\n"
   ]
  },
  {
   "cell_type": "code",
   "execution_count": 7,
   "metadata": {},
   "outputs": [
    {
     "name": "stdout",
     "output_type": "stream",
     "text": [
      "4\n",
      "3\n",
      "2\n",
      "1\n",
      "0\n",
      "4\n",
      "3\n",
      "2\n",
      "1\n",
      "0\n"
     ]
    }
   ],
   "source": [
    "class Countdown:\n",
    "    \"\"\"A simple iterator class for counting down.\"\"\"\n",
    "    \n",
    "    def __init__(self, start):\n",
    "        self.current = start\n",
    "    \n",
    "    def __iter__(self):\n",
    "        return self\n",
    "    \n",
    "    def __next__(self):\n",
    "        if self.current <= 0:\n",
    "            raise StopIteration\n",
    "        else:\n",
    "            self.current -= 1\n",
    "            return self.current\n",
    "\n",
    "# Using the Countdown iterator\n",
    "cd = Countdown(5)\n",
    "for count in cd:\n",
    "    print(count)\n",
    "\n",
    "# Example of a generator function\n",
    "''' The yield keyword is what makes a function a generator. \n",
    "Instead of returning a single value and exiting like a normal function, yield \n",
    "produces a value and pauses the function's execution, saving its state for later \n",
    "resumption. When the function is resumed (e.g., by the next iteration of a loop), \n",
    "it continues from where it left off.'''\n",
    "\n",
    "def countdown_generator(start):\n",
    "    while start > 0:\n",
    "        start -= 1\n",
    "        yield start\n",
    "\n",
    "# Using the countdown generator\n",
    "for count in countdown_generator(5):\n",
    "    print(count)\n",
    "\n"
   ]
  },
  {
   "cell_type": "markdown",
   "metadata": {},
   "source": [
    "\n",
    "### 9. Conclusion and Exercises\n",
    "### ---------------------------\n",
    "### Summary:\n",
    "### - We covered key OOP concepts: classes, objects, encapsulation, inheritance, polymorphism, \n",
    "###   abstract base classes, operator overloading, iterators, and generators.\n",
    "### \n",
    "### Exercises:\n",
    "### 1. Create a class for a bank account with methods to deposit, withdraw, and check the balance.\n",
    "### 2. Implement a subclass of the bank account that adds an overdraft limit.\n",
    "### 3. Overload the multiplication operator to multiply a vector by a scalar.\n",
    "### 4. Create a generator function that yields the Fibonacci sequence up to a certain number."
   ]
  },
  {
   "cell_type": "code",
   "execution_count": null,
   "metadata": {},
   "outputs": [],
   "source": []
  }
 ],
 "metadata": {
  "kernelspec": {
   "display_name": "AD325",
   "language": "python",
   "name": "python3"
  },
  "language_info": {
   "codemirror_mode": {
    "name": "ipython",
    "version": 3
   },
   "file_extension": ".py",
   "mimetype": "text/x-python",
   "name": "python",
   "nbconvert_exporter": "python",
   "pygments_lexer": "ipython3",
   "version": "3.10.14"
  }
 },
 "nbformat": 4,
 "nbformat_minor": 2
}
