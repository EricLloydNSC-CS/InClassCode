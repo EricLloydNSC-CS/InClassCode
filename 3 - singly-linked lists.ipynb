{
 "cells": [
  {
   "cell_type": "code",
   "execution_count": 4,
   "metadata": {},
   "outputs": [],
   "source": [
    "class Node:\n",
    "    def __init__(self, initial_data):\n",
    "        self.data = initial_data\n",
    "        self.next = None"
   ]
  },
  {
   "cell_type": "code",
   "execution_count": 5,
   "metadata": {},
   "outputs": [],
   "source": [
    "class LinkedList:\n",
    "    def __init__(self):\n",
    "        self.head = None\n",
    "        self.tail = None\n",
    "\n",
    "    def append(self, new_node):\n",
    "        if self.head == None:\n",
    "            self.head = new_node\n",
    "            self.tail = new_node\n",
    "        else:\n",
    "            self.tail.next = new_node\n",
    "            self.tail = new_node\n",
    "\n",
    "    def prepend(self, new_node):\n",
    "        if self.head == None:\n",
    "            self.head = new_node\n",
    "            self.tail = new_node\n",
    "        else:\n",
    "            new_node.next = self.head\n",
    "            self.head = new_node\n",
    "\n",
    "    def insert_after(self, current_node, new_node):\n",
    "        if self.head == None:\n",
    "            self.head = new_node\n",
    "            self.tail = new_node\n",
    "        elif current_node is self.tail:\n",
    "            self.tail.next = new_node\n",
    "            self.tail = new_node\n",
    "        else:\n",
    "            new_node.next = current_node.next\n",
    "            current_node.next = new_node\n",
    "\n",
    "    def remove_after(self, current_node):\n",
    "        # Special case, remove head\n",
    "        if (current_node == None) and (self.head != None):\n",
    "            succeeding_node = self.head.next\n",
    "            self.head = succeeding_node  \n",
    "            if succeeding_node == None: # Remove last item\n",
    "                self.tail = None\n",
    "        elif current_node.next != None:\n",
    "            succeeding_node = current_node.next.next\n",
    "            current_node.next = succeeding_node\n",
    "            if succeeding_node == None: # Remove tail\n",
    "                self.tail = current_node"
   ]
  },
  {
   "cell_type": "code",
   "execution_count": 6,
   "metadata": {},
   "outputs": [
    {
     "name": "stdout",
     "output_type": "stream",
     "text": [
      "List after adding nodes: 66 99 44 95 42 17 \n",
      "List after removing nodes: 99 44 95 42 \n"
     ]
    }
   ],
   "source": [
    "num_list = LinkedList()\n",
    "\n",
    "node_a = Node(66)\n",
    "node_b = Node(99)\n",
    "node_c = Node(44)\n",
    "node_d = Node(95)\n",
    "node_e = Node(42)\n",
    "node_f = Node(17)\n",
    "\n",
    "num_list.append(node_b)   # Add 99\n",
    "num_list.append(node_c)   # Add 44, make the tail\n",
    "num_list.append(node_e)   # Add 42, make the tail\n",
    "\n",
    "num_list.prepend(node_a)  # Add 66, make the head\n",
    "\n",
    "num_list.insert_after(node_c, node_d)  # Insert 95 after 44\n",
    "num_list.insert_after(node_e, node_f)  # Insert 17 after tail (42)\n",
    "\n",
    "# Output list\n",
    "print('List after adding nodes:', end=' ')\n",
    "node = num_list.head\n",
    "while node != None:\n",
    "    print(node.data, end=' ')\n",
    "    node = node.next\n",
    "print()\n",
    "\n",
    "num_list.remove_after(node_e)   # Remove the tail (17)\n",
    "num_list.remove_after(None)     # Remove the head (66)\n",
    "\n",
    "\n",
    "# Output final list\n",
    "print('List after removing nodes:', end=' ')\n",
    "node = num_list.head\n",
    "while node != None:\n",
    "    print(node.data, end=' ')\n",
    "    node = node.next\n",
    "print()\n"
   ]
  }
 ],
 "metadata": {
  "kernelspec": {
   "display_name": "AD325",
   "language": "python",
   "name": "python3"
  },
  "language_info": {
   "codemirror_mode": {
    "name": "ipython",
    "version": 3
   },
   "file_extension": ".py",
   "mimetype": "text/x-python",
   "name": "python",
   "nbconvert_exporter": "python",
   "pygments_lexer": "ipython3",
   "version": "3.10.14"
  }
 },
 "nbformat": 4,
 "nbformat_minor": 2
}
