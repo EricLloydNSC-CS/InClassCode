{
 "cells": [
  {
   "cell_type": "code",
   "execution_count": 3,
   "metadata": {},
   "outputs": [],
   "source": [
    "def binary_search(numbers, low, high, key):\n",
    "    if low > high:\n",
    "        return -1\n",
    "\n",
    "    mid = (low + high) // 2  # Use integer division in Python\n",
    "    if numbers[mid] < key:\n",
    "        return binary_search(numbers, mid + 1, high, key)\n",
    "    elif numbers[mid] > key:\n",
    "        return binary_search(numbers, low, mid - 1, key)\n",
    "    return mid\n"
   ]
  },
  {
   "cell_type": "markdown",
   "metadata": {},
   "source": []
  },
  {
   "cell_type": "code",
   "execution_count": 4,
   "metadata": {},
   "outputs": [
    {
     "name": "stdout",
     "output_type": "stream",
     "text": [
      "Test case 1 passed: expected 0, got 0\n",
      "Test case 2 passed: expected 4, got 4\n",
      "Test case 3 passed: expected 9, got 9\n",
      "Test case 4 passed: expected -1, got -1\n",
      "Test case 5 passed: expected 3, got 3\n",
      "Test case 6 passed: expected -1, got -1\n"
     ]
    }
   ],
   "source": [
    "# Function to test the binary search algorithm\n",
    "def test_binary_search():\n",
    "    test_cases = [\n",
    "        ([1, 2, 3, 4, 5, 6, 7, 8, 9, 10], 1, 0),\n",
    "        ([1, 2, 3, 4, 5, 6, 7, 8, 9, 10], 5, 4),\n",
    "        ([1, 2, 3, 4, 5, 6, 7, 8, 9, 10], 10, 9),\n",
    "        ([1, 2, 3, 4, 5, 6, 7, 8, 9, 10], 11, -1),\n",
    "        ([1, 3, 5, 7, 9, 11, 13, 15, 17, 19], 7, 3),\n",
    "        ([1, 3, 5, 7, 9, 11, 13, 15, 17, 19], 20, -1)\n",
    "    ]\n",
    "\n",
    "    for i, (numbers, key, expected) in enumerate(test_cases):\n",
    "        result = binary_search(numbers, 0, len(numbers) - 1, key)\n",
    "        if result == expected:\n",
    "            print(f\"Test case {i + 1} passed: expected {expected}, got {result}\")\n",
    "        else:\n",
    "            print(f\"Test case {i + 1} failed: expected {expected}, got {result}\")\n",
    "\n",
    "# Run the test function\n",
    "test_binary_search()"
   ]
  }
 ],
 "metadata": {
  "kernelspec": {
   "display_name": "AD325",
   "language": "python",
   "name": "python3"
  },
  "language_info": {
   "codemirror_mode": {
    "name": "ipython",
    "version": 3
   },
   "file_extension": ".py",
   "mimetype": "text/x-python",
   "name": "python",
   "nbconvert_exporter": "python",
   "pygments_lexer": "ipython3",
   "version": "3.10.14"
  }
 },
 "nbformat": 4,
 "nbformat_minor": 2
}
