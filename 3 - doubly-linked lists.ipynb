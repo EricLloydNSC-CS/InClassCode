{
 "cells": [
  {
   "cell_type": "code",
   "execution_count": 1,
   "metadata": {},
   "outputs": [],
   "source": [
    "class Node:\n",
    "    def __init__(self, initial_data):\n",
    "        self.data = initial_data\n",
    "        self.next = None\n",
    "        self.prev = None"
   ]
  },
  {
   "cell_type": "code",
   "execution_count": 2,
   "metadata": {},
   "outputs": [],
   "source": [
    "class LinkedList:\n",
    "    def __init__(self):\n",
    "        self.head = None\n",
    "        self.tail = None\n",
    "\n",
    "    def append(self, new_node):\n",
    "        if self.head == None:\n",
    "            self.head = new_node\n",
    "            self.tail = new_node\n",
    "        else:\n",
    "            self.tail.next = new_node\n",
    "            new_node.prev = self.tail\n",
    "            self.tail = new_node\n",
    "\n",
    "    def prepend(self, new_node):\n",
    "        if self.head == None:\n",
    "            self.head = new_node\n",
    "            self.tail = new_node\n",
    "        else:\n",
    "            new_node.next = self.head\n",
    "            self.head.prev = new_node\n",
    "            self.head = new_node\n",
    "\n",
    "    def insert_after(self, current_node, new_node):\n",
    "        if self.head is None:\n",
    "            self.head = new_node\n",
    "            self.tail = new_node\n",
    "        elif current_node is self.tail:\n",
    "            self.tail.next = new_node\n",
    "            new_node.prev = self.tail\n",
    "            self.tail = new_node\n",
    "        else:\n",
    "            successor_node = current_node.next\n",
    "            new_node.next = successor_node\n",
    "            new_node.prev = current_node\n",
    "            current_node.next = new_node\n",
    "            successor_node.prev = new_node\n",
    "\n",
    "    def remove(self, current_node):\n",
    "        successor_node = current_node.next\n",
    "        predecessor_node = current_node.prev\n",
    "\n",
    "        if successor_node is not None:\n",
    "            successor_node.prev = predecessor_node\n",
    "\n",
    "        if predecessor_node is not None:\n",
    "            predecessor_node.next = successor_node\n",
    "\n",
    "        if current_node is self.head:\n",
    "            self.head = successor_node\n",
    "\n",
    "        if current_node is self.tail:\n",
    "            self.tail = predecessor_node"
   ]
  },
  {
   "cell_type": "code",
   "execution_count": 3,
   "metadata": {},
   "outputs": [
    {
     "name": "stdout",
     "output_type": "stream",
     "text": [
      "List after adding nodes: 31 14 2 16 20 55 \n",
      "List after removing nodes: 14 2 16 20 \n"
     ]
    }
   ],
   "source": [
    "\n",
    "num_list = LinkedList()\n",
    "\n",
    "node_a = Node(14)\n",
    "node_b = Node(2)\n",
    "node_c = Node(20)\n",
    "node_d = Node(31)\n",
    "node_e = Node(16)\n",
    "node_f = Node(55)\n",
    "\n",
    "num_list.append(node_a)  # Add 14\n",
    "num_list.append(node_b)   # Add 2, make the tail\n",
    "num_list.append(node_c)  # Add 20, make the tail\n",
    "\n",
    "num_list.prepend(node_d)  # Add 31, make the head\n",
    "\n",
    "num_list.insert_after(node_b, node_e)  # Insert 16 after 2\n",
    "num_list.insert_after(node_c, node_f)  # Insert 55 after tail, 55 becomes new tail\n",
    "\n",
    "# Output list\n",
    "print('List after adding nodes:', end=' ')\n",
    "node = num_list.head\n",
    "while node != None:\n",
    "    print(node.data, end=' ')\n",
    "    node = node.next\n",
    "print()\n",
    "\n",
    "num_list.remove(node_f)  # Remove the tail\n",
    "num_list.remove(node_d)  # Remove the head\n",
    "\n",
    "\n",
    "# Output final list\n",
    "print('List after removing nodes:', end=' ')\n",
    "node = num_list.head\n",
    "while node != None:\n",
    "    print(node.data, end=' ')\n",
    "    node = node.next\n",
    "print()\n"
   ]
  }
 ],
 "metadata": {
  "kernelspec": {
   "display_name": "AD325",
   "language": "python",
   "name": "python3"
  },
  "language_info": {
   "codemirror_mode": {
    "name": "ipython",
    "version": 3
   },
   "file_extension": ".py",
   "mimetype": "text/x-python",
   "name": "python",
   "nbconvert_exporter": "python",
   "pygments_lexer": "ipython3",
   "version": "3.10.14"
  }
 },
 "nbformat": 4,
 "nbformat_minor": 2
}
